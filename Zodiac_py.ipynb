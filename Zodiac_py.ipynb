{
  "nbformat": 4,
  "nbformat_minor": 0,
  "metadata": {
    "colab": {
      "name": "Zodiac.py",
      "provenance": [],
      "collapsed_sections": [],
      "authorship_tag": "ABX9TyMAvxgozYkbj5OY1EosnAjC",
      "include_colab_link": true
    },
    "kernelspec": {
      "name": "python3",
      "display_name": "Python 3"
    },
    "language_info": {
      "name": "python"
    }
  },
  "cells": [
    {
      "cell_type": "markdown",
      "metadata": {
        "id": "view-in-github",
        "colab_type": "text"
      },
      "source": [
        "<a href=\"https://colab.research.google.com/github/joepaul13/Runtime-Terror/blob/main/Zodiac_py.ipynb\" target=\"_parent\"><img src=\"https://colab.research.google.com/assets/colab-badge.svg\" alt=\"Open In Colab\"/></a>"
      ]
    },
    {
      "cell_type": "code",
      "metadata": {
        "colab": {
          "base_uri": "https://localhost:8080/"
        },
        "id": "AUFCRSnTW4WQ",
        "outputId": "8fe6efe8-556a-4827-d112-8365909269f7"
      },
      "source": [
        "#Program to determine your zodiac sign\n",
        "print(\"This is a Program to Determine your Zodiac Sign\\n\")\n",
        "date = input(\"Enter your Date of Birth in DD-MM Format\")\n",
        "dd = int(date[:2])\n",
        "mm = int(date[3:])\n",
        "if(mm==1):\n",
        "    if(dd<=20):\n",
        "        print(\"You are CAPRICORN, the goat\")\n",
        "    elif(dd>20 and dd<=31):\n",
        "        print(\"You are AQUARIUS, the water carrier\")\n",
        "    else:\n",
        "        print(\"Invalid Input\")\n",
        "\n",
        "elif(mm==2):\n",
        "    if(dd<=18):\n",
        "        print(\"You are AQUARIUS, the water carrier\")\n",
        "    elif(dd>18 and dd<=29):\n",
        "        print(\"You are PISCES, the fish\")\n",
        "    else:\n",
        "        print(\"Invalid Input\")\n",
        "\n",
        "elif(mm==3):\n",
        "    if(dd<=20):\n",
        "        print(\"You are PISCES, the fish\")\n",
        "    elif(dd>20 and dd<=31):\n",
        "        print(\"You are ARIES, the ram\")\n",
        "    else:\n",
        "        print(\"Invalid Input\")\n",
        "\n",
        "elif(mm==4):\n",
        "    if(dd<=20):\n",
        "        print(\"You are ARIES, the ram\")\n",
        "    elif(dd>20 and dd<=30):\n",
        "        print(\"You are TAURUS, the bull\")\n",
        "    else:\n",
        "        print(\"Invalid Input\")\n",
        "\n",
        "elif(mm==5):\n",
        "    if(dd<=21):\n",
        "        print(\"You are TAURUS, the bull\")\n",
        "    elif(dd>21 and dd<=31):\n",
        "        print(\"You are GEMINI, the twins\")\n",
        "    else:\n",
        "        print(\"Invalid Input\")\n",
        "\n",
        "elif(mm==6):\n",
        "    if(dd<=21):\n",
        "        print(\"You are GEMINI, the twins\")\n",
        "    elif(dd>21 and dd<=30):\n",
        "        print(\"You are CANCER, the crab\")\n",
        "    else:\n",
        "        print(\"Invalid Input\")\n",
        "\n",
        "elif(mm==7):\n",
        "    if(dd<=22):\n",
        "        print(\"You are CANCER, the crab\")\n",
        "    elif(dd>22 and dd<=31):\n",
        "        print(\"You are LEO, the lion\")\n",
        "    else:\n",
        "        print(\"Invalid Input\")\n",
        "\n",
        "elif(mm==8):\n",
        "    if(dd<=23):\n",
        "        print(\"You are LEO, the lion\")\n",
        "    elif(dd>23 and dd<=31):\n",
        "        print(\"You are VIRGO, the goddess\")\n",
        "    else:\n",
        "        print(\"Invalid Input\")\n",
        "\n",
        "elif(mm==9):\n",
        "    if(dd<=22):\n",
        "        print(\"You are VIRGO, the goddess\")\n",
        "    elif(dd>22 and dd<=30):\n",
        "        print(\"You are LIBRA, the scales\")\n",
        "    else:\n",
        "        print(\"Invalid Input\")\n",
        "\n",
        "elif(mm==10):\n",
        "    if(dd<=23):\n",
        "        print(\"You are LIBRA, the scales\")\n",
        "    elif(dd>23 and dd<=31):\n",
        "        print(\"You are SCORPIO, the scorpion\")\n",
        "    else:\n",
        "        print(\"Invalid Input\")\n",
        "\n",
        "elif(mm==11):\n",
        "    if(dd<=22):\n",
        "        print(\"You are SCORPIO, the scorpion\")\n",
        "    elif(dd>22 and dd<=30):\n",
        "        print(\"You are SAGITTARIUS, the archer\")\n",
        "    else:\n",
        "        print(\"Invalid Input\")\n",
        "\n",
        "elif(mm==12):\n",
        "    if(dd<=23):\n",
        "        print(\"You are SAGITTARIUS, the archer\")\n",
        "    elif(dd>23 and dd<=31):\n",
        "        print(\"You are CAPRICORN, the goat\")\n",
        "    else:\n",
        "        print(\"Invalid Input\")"
      ],
      "execution_count": null,
      "outputs": [
        {
          "output_type": "stream",
          "text": [
            "This is a Program to Determine your Zodiac Sign\n",
            "\n",
            "Enter your Date of Birth in DD-MM Format12-12\n",
            "You are SAGITTARIUS, the archer\n"
          ],
          "name": "stdout"
        }
      ]
    }
  ]
}