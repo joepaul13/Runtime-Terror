{
  "nbformat": 4,
  "nbformat_minor": 0,
  "metadata": {
    "colab": {
      "name": "CreditCard.ipynb",
      "provenance": [],
      "authorship_tag": "ABX9TyNhdEpyxnYGTiaS/lNXdTCJ",
      "include_colab_link": true
    },
    "kernelspec": {
      "name": "python3",
      "display_name": "Python 3"
    },
    "language_info": {
      "name": "python"
    }
  },
  "cells": [
    {
      "cell_type": "markdown",
      "metadata": {
        "id": "view-in-github",
        "colab_type": "text"
      },
      "source": [
        "<a href=\"https://colab.research.google.com/github/joepaul13/Runtime-Terror/blob/main/CreditCard.ipynb\" target=\"_parent\"><img src=\"https://colab.research.google.com/assets/colab-badge.svg\" alt=\"Open In Colab\"/></a>"
      ]
    },
    {
      "cell_type": "code",
      "metadata": {
        "id": "1aVv6Hrz0FyD"
      },
      "source": [
        "import numpy as np\n",
        "import pandas as pd\n",
        "from sklearn.model_selection import train_test_split\n",
        "from sklearn.linear_model import LogisticRegression\n",
        "from sklearn.metrics import accuracy_score"
      ],
      "execution_count": 1,
      "outputs": []
    },
    {
      "cell_type": "code",
      "metadata": {
        "id": "kFHrAaTB1_4v"
      },
      "source": [
        "#Loading the file into a Pandas DataFrame\n",
        "credit_card = pd.read_csv('creditcard.csv')"
      ],
      "execution_count": 2,
      "outputs": []
    },
    {
      "cell_type": "code",
      "metadata": {
        "colab": {
          "base_uri": "https://localhost:8080/",
          "height": 216
        },
        "id": "jymjR-nx2QlA",
        "outputId": "8f28883e-3b58-4b69-ef64-3d87c1f8faf9"
      },
      "source": [
        "credit_card.head()"
      ],
      "execution_count": 33,
      "outputs": [
        {
          "output_type": "execute_result",
          "data": {
            "text/html": [
              "<div>\n",
              "<style scoped>\n",
              "    .dataframe tbody tr th:only-of-type {\n",
              "        vertical-align: middle;\n",
              "    }\n",
              "\n",
              "    .dataframe tbody tr th {\n",
              "        vertical-align: top;\n",
              "    }\n",
              "\n",
              "    .dataframe thead th {\n",
              "        text-align: right;\n",
              "    }\n",
              "</style>\n",
              "<table border=\"1\" class=\"dataframe\">\n",
              "  <thead>\n",
              "    <tr style=\"text-align: right;\">\n",
              "      <th></th>\n",
              "      <th>Time</th>\n",
              "      <th>V1</th>\n",
              "      <th>V2</th>\n",
              "      <th>V3</th>\n",
              "      <th>V4</th>\n",
              "      <th>V5</th>\n",
              "      <th>V6</th>\n",
              "      <th>V7</th>\n",
              "      <th>V8</th>\n",
              "      <th>V9</th>\n",
              "      <th>V10</th>\n",
              "      <th>V11</th>\n",
              "      <th>V12</th>\n",
              "      <th>V13</th>\n",
              "      <th>V14</th>\n",
              "      <th>V15</th>\n",
              "      <th>V16</th>\n",
              "      <th>V17</th>\n",
              "      <th>V18</th>\n",
              "      <th>V19</th>\n",
              "      <th>V20</th>\n",
              "      <th>V21</th>\n",
              "      <th>V22</th>\n",
              "      <th>V23</th>\n",
              "      <th>V24</th>\n",
              "      <th>V25</th>\n",
              "      <th>V26</th>\n",
              "      <th>V27</th>\n",
              "      <th>V28</th>\n",
              "      <th>Amount</th>\n",
              "      <th>Class</th>\n",
              "    </tr>\n",
              "  </thead>\n",
              "  <tbody>\n",
              "    <tr>\n",
              "      <th>0</th>\n",
              "      <td>0</td>\n",
              "      <td>-1.359807</td>\n",
              "      <td>-0.072781</td>\n",
              "      <td>2.536347</td>\n",
              "      <td>1.378155</td>\n",
              "      <td>-0.338321</td>\n",
              "      <td>0.462388</td>\n",
              "      <td>0.239599</td>\n",
              "      <td>0.098698</td>\n",
              "      <td>0.363787</td>\n",
              "      <td>0.090794</td>\n",
              "      <td>-0.551600</td>\n",
              "      <td>-0.617801</td>\n",
              "      <td>-0.991390</td>\n",
              "      <td>-0.311169</td>\n",
              "      <td>1.468177</td>\n",
              "      <td>-0.470401</td>\n",
              "      <td>0.207971</td>\n",
              "      <td>0.025791</td>\n",
              "      <td>0.403993</td>\n",
              "      <td>0.251412</td>\n",
              "      <td>-0.018307</td>\n",
              "      <td>0.277838</td>\n",
              "      <td>-0.110474</td>\n",
              "      <td>0.066928</td>\n",
              "      <td>0.128539</td>\n",
              "      <td>-0.189115</td>\n",
              "      <td>0.133558</td>\n",
              "      <td>-0.021053</td>\n",
              "      <td>149.62</td>\n",
              "      <td>0.0</td>\n",
              "    </tr>\n",
              "    <tr>\n",
              "      <th>1</th>\n",
              "      <td>0</td>\n",
              "      <td>1.191857</td>\n",
              "      <td>0.266151</td>\n",
              "      <td>0.166480</td>\n",
              "      <td>0.448154</td>\n",
              "      <td>0.060018</td>\n",
              "      <td>-0.082361</td>\n",
              "      <td>-0.078803</td>\n",
              "      <td>0.085102</td>\n",
              "      <td>-0.255425</td>\n",
              "      <td>-0.166974</td>\n",
              "      <td>1.612727</td>\n",
              "      <td>1.065235</td>\n",
              "      <td>0.489095</td>\n",
              "      <td>-0.143772</td>\n",
              "      <td>0.635558</td>\n",
              "      <td>0.463917</td>\n",
              "      <td>-0.114805</td>\n",
              "      <td>-0.183361</td>\n",
              "      <td>-0.145783</td>\n",
              "      <td>-0.069083</td>\n",
              "      <td>-0.225775</td>\n",
              "      <td>-0.638672</td>\n",
              "      <td>0.101288</td>\n",
              "      <td>-0.339846</td>\n",
              "      <td>0.167170</td>\n",
              "      <td>0.125895</td>\n",
              "      <td>-0.008983</td>\n",
              "      <td>0.014724</td>\n",
              "      <td>2.69</td>\n",
              "      <td>0.0</td>\n",
              "    </tr>\n",
              "    <tr>\n",
              "      <th>2</th>\n",
              "      <td>1</td>\n",
              "      <td>-1.358354</td>\n",
              "      <td>-1.340163</td>\n",
              "      <td>1.773209</td>\n",
              "      <td>0.379780</td>\n",
              "      <td>-0.503198</td>\n",
              "      <td>1.800499</td>\n",
              "      <td>0.791461</td>\n",
              "      <td>0.247676</td>\n",
              "      <td>-1.514654</td>\n",
              "      <td>0.207643</td>\n",
              "      <td>0.624501</td>\n",
              "      <td>0.066084</td>\n",
              "      <td>0.717293</td>\n",
              "      <td>-0.165946</td>\n",
              "      <td>2.345865</td>\n",
              "      <td>-2.890083</td>\n",
              "      <td>1.109969</td>\n",
              "      <td>-0.121359</td>\n",
              "      <td>-2.261857</td>\n",
              "      <td>0.524980</td>\n",
              "      <td>0.247998</td>\n",
              "      <td>0.771679</td>\n",
              "      <td>0.909412</td>\n",
              "      <td>-0.689281</td>\n",
              "      <td>-0.327642</td>\n",
              "      <td>-0.139097</td>\n",
              "      <td>-0.055353</td>\n",
              "      <td>-0.059752</td>\n",
              "      <td>378.66</td>\n",
              "      <td>0.0</td>\n",
              "    </tr>\n",
              "    <tr>\n",
              "      <th>3</th>\n",
              "      <td>1</td>\n",
              "      <td>-0.966272</td>\n",
              "      <td>-0.185226</td>\n",
              "      <td>1.792993</td>\n",
              "      <td>-0.863291</td>\n",
              "      <td>-0.010309</td>\n",
              "      <td>1.247203</td>\n",
              "      <td>0.237609</td>\n",
              "      <td>0.377436</td>\n",
              "      <td>-1.387024</td>\n",
              "      <td>-0.054952</td>\n",
              "      <td>-0.226487</td>\n",
              "      <td>0.178228</td>\n",
              "      <td>0.507757</td>\n",
              "      <td>-0.287924</td>\n",
              "      <td>-0.631418</td>\n",
              "      <td>-1.059647</td>\n",
              "      <td>-0.684093</td>\n",
              "      <td>1.965775</td>\n",
              "      <td>-1.232622</td>\n",
              "      <td>-0.208038</td>\n",
              "      <td>-0.108300</td>\n",
              "      <td>0.005274</td>\n",
              "      <td>-0.190321</td>\n",
              "      <td>-1.175575</td>\n",
              "      <td>0.647376</td>\n",
              "      <td>-0.221929</td>\n",
              "      <td>0.062723</td>\n",
              "      <td>0.061458</td>\n",
              "      <td>123.50</td>\n",
              "      <td>0.0</td>\n",
              "    </tr>\n",
              "    <tr>\n",
              "      <th>4</th>\n",
              "      <td>2</td>\n",
              "      <td>-1.158233</td>\n",
              "      <td>0.877737</td>\n",
              "      <td>1.548718</td>\n",
              "      <td>0.403034</td>\n",
              "      <td>-0.407193</td>\n",
              "      <td>0.095921</td>\n",
              "      <td>0.592941</td>\n",
              "      <td>-0.270533</td>\n",
              "      <td>0.817739</td>\n",
              "      <td>0.753074</td>\n",
              "      <td>-0.822843</td>\n",
              "      <td>0.538196</td>\n",
              "      <td>1.345852</td>\n",
              "      <td>-1.119670</td>\n",
              "      <td>0.175121</td>\n",
              "      <td>-0.451449</td>\n",
              "      <td>-0.237033</td>\n",
              "      <td>-0.038195</td>\n",
              "      <td>0.803487</td>\n",
              "      <td>0.408542</td>\n",
              "      <td>-0.009431</td>\n",
              "      <td>0.798278</td>\n",
              "      <td>-0.137458</td>\n",
              "      <td>0.141267</td>\n",
              "      <td>-0.206010</td>\n",
              "      <td>0.502292</td>\n",
              "      <td>0.219422</td>\n",
              "      <td>0.215153</td>\n",
              "      <td>69.99</td>\n",
              "      <td>0.0</td>\n",
              "    </tr>\n",
              "  </tbody>\n",
              "</table>\n",
              "</div>"
            ],
            "text/plain": [
              "   Time        V1        V2        V3  ...       V27       V28  Amount  Class\n",
              "0     0 -1.359807 -0.072781  2.536347  ...  0.133558 -0.021053  149.62    0.0\n",
              "1     0  1.191857  0.266151  0.166480  ... -0.008983  0.014724    2.69    0.0\n",
              "2     1 -1.358354 -1.340163  1.773209  ... -0.055353 -0.059752  378.66    0.0\n",
              "3     1 -0.966272 -0.185226  1.792993  ...  0.062723  0.061458  123.50    0.0\n",
              "4     2 -1.158233  0.877737  1.548718  ...  0.219422  0.215153   69.99    0.0\n",
              "\n",
              "[5 rows x 31 columns]"
            ]
          },
          "metadata": {
            "tags": []
          },
          "execution_count": 33
        }
      ]
    },
    {
      "cell_type": "code",
      "metadata": {
        "colab": {
          "base_uri": "https://localhost:8080/"
        },
        "id": "S05zMu1b2Vlf",
        "outputId": "b32fcf84-018d-4d5b-a5d0-98dc13689211"
      },
      "source": [
        "#Checking no. of missing values in each column\n",
        "credit_card.isnull().sum()"
      ],
      "execution_count": 4,
      "outputs": [
        {
          "output_type": "execute_result",
          "data": {
            "text/plain": [
              "Time      0\n",
              "V1        0\n",
              "V2        0\n",
              "V3        0\n",
              "V4        0\n",
              "V5        0\n",
              "V6        0\n",
              "V7        0\n",
              "V8        0\n",
              "V9        0\n",
              "V10       0\n",
              "V11       0\n",
              "V12       0\n",
              "V13       0\n",
              "V14       0\n",
              "V15       0\n",
              "V16       0\n",
              "V17       0\n",
              "V18       0\n",
              "V19       0\n",
              "V20       0\n",
              "V21       0\n",
              "V22       0\n",
              "V23       0\n",
              "V24       0\n",
              "V25       0\n",
              "V26       0\n",
              "V27       0\n",
              "V28       0\n",
              "Amount    1\n",
              "Class     1\n",
              "dtype: int64"
            ]
          },
          "metadata": {
            "tags": []
          },
          "execution_count": 4
        }
      ]
    },
    {
      "cell_type": "code",
      "metadata": {
        "id": "mznecpi-8QzY"
      },
      "source": [
        "credit_card['Amount'].fillna(credit_card['Amount'].median(), inplace=True)\n",
        "credit_card['Class'].fillna(credit_card['Class'].median(), inplace=True)"
      ],
      "execution_count": 36,
      "outputs": []
    },
    {
      "cell_type": "code",
      "metadata": {
        "colab": {
          "base_uri": "https://localhost:8080/"
        },
        "id": "sb5G_pXr2jSF",
        "outputId": "3995ffab-cb87-42a5-cf85-ac5760b9ceba"
      },
      "source": [
        "credit_card['Class'].value_counts()"
      ],
      "execution_count": 37,
      "outputs": [
        {
          "output_type": "execute_result",
          "data": {
            "text/plain": [
              "0.0    21792\n",
              "1.0       86\n",
              "Name: Class, dtype: int64"
            ]
          },
          "metadata": {
            "tags": []
          },
          "execution_count": 37
        }
      ]
    },
    {
      "cell_type": "markdown",
      "metadata": {
        "id": "j9yb7CMf3AQA"
      },
      "source": [
        "Here, 0 corresponds to a legitimate transaction, and 1 corresponds to a fraudulent transaction."
      ]
    },
    {
      "cell_type": "code",
      "metadata": {
        "id": "8tCNLmei3Kq_"
      },
      "source": [
        "#Separating the data\n",
        "legit = credit_card[credit_card.Class == 0]\n",
        "fraud = credit_card[credit_card.Class == 1]"
      ],
      "execution_count": 38,
      "outputs": []
    },
    {
      "cell_type": "code",
      "metadata": {
        "colab": {
          "base_uri": "https://localhost:8080/"
        },
        "id": "p_A1k8fs3a00",
        "outputId": "d43a1308-1866-4ea0-d07d-5416f9d95a9e"
      },
      "source": [
        "#The dimensions of the 2 arrays\n",
        "print(legit.shape)\n",
        "print(fraud.shape)"
      ],
      "execution_count": 39,
      "outputs": [
        {
          "output_type": "stream",
          "text": [
            "(21792, 31)\n",
            "(86, 31)\n"
          ],
          "name": "stdout"
        }
      ]
    },
    {
      "cell_type": "code",
      "metadata": {
        "colab": {
          "base_uri": "https://localhost:8080/"
        },
        "id": "b6H7vERs4CVN",
        "outputId": "b70cc164-2821-4d66-f4bd-68c9b838afd6"
      },
      "source": [
        "legit.Amount.describe()"
      ],
      "execution_count": 40,
      "outputs": [
        {
          "output_type": "execute_result",
          "data": {
            "text/plain": [
              "count    21792.000000\n",
              "mean        71.634916\n",
              "std        204.785778\n",
              "min          0.000000\n",
              "25%          5.990000\n",
              "50%         17.495000\n",
              "75%         62.110000\n",
              "max       7879.420000\n",
              "Name: Amount, dtype: float64"
            ]
          },
          "metadata": {
            "tags": []
          },
          "execution_count": 40
        }
      ]
    },
    {
      "cell_type": "code",
      "metadata": {
        "colab": {
          "base_uri": "https://localhost:8080/"
        },
        "id": "7CKofQL23mnV",
        "outputId": "f0812232-b98b-4f53-d8e2-f84602e541e1"
      },
      "source": [
        "fraud.Amount.describe()"
      ],
      "execution_count": 41,
      "outputs": [
        {
          "output_type": "execute_result",
          "data": {
            "text/plain": [
              "count      86.000000\n",
              "mean       93.996860\n",
              "std       260.195133\n",
              "min         0.000000\n",
              "25%         1.000000\n",
              "50%         1.000000\n",
              "75%        99.990000\n",
              "max      1809.680000\n",
              "Name: Amount, dtype: float64"
            ]
          },
          "metadata": {
            "tags": []
          },
          "execution_count": 41
        }
      ]
    },
    {
      "cell_type": "code",
      "metadata": {
        "colab": {
          "base_uri": "https://localhost:8080/",
          "height": 157
        },
        "id": "XeFAkvBe4GuK",
        "outputId": "328a4a71-601d-412c-f400-dde17fc8f701"
      },
      "source": [
        "#Comparing the values for both transactions\n",
        "credit_card.groupby('Class').mean()"
      ],
      "execution_count": 42,
      "outputs": [
        {
          "output_type": "execute_result",
          "data": {
            "text/html": [
              "<div>\n",
              "<style scoped>\n",
              "    .dataframe tbody tr th:only-of-type {\n",
              "        vertical-align: middle;\n",
              "    }\n",
              "\n",
              "    .dataframe tbody tr th {\n",
              "        vertical-align: top;\n",
              "    }\n",
              "\n",
              "    .dataframe thead th {\n",
              "        text-align: right;\n",
              "    }\n",
              "</style>\n",
              "<table border=\"1\" class=\"dataframe\">\n",
              "  <thead>\n",
              "    <tr style=\"text-align: right;\">\n",
              "      <th></th>\n",
              "      <th>Time</th>\n",
              "      <th>V1</th>\n",
              "      <th>V2</th>\n",
              "      <th>V3</th>\n",
              "      <th>V4</th>\n",
              "      <th>V5</th>\n",
              "      <th>V6</th>\n",
              "      <th>V7</th>\n",
              "      <th>V8</th>\n",
              "      <th>V9</th>\n",
              "      <th>V10</th>\n",
              "      <th>V11</th>\n",
              "      <th>V12</th>\n",
              "      <th>V13</th>\n",
              "      <th>V14</th>\n",
              "      <th>V15</th>\n",
              "      <th>V16</th>\n",
              "      <th>V17</th>\n",
              "      <th>V18</th>\n",
              "      <th>V19</th>\n",
              "      <th>V20</th>\n",
              "      <th>V21</th>\n",
              "      <th>V22</th>\n",
              "      <th>V23</th>\n",
              "      <th>V24</th>\n",
              "      <th>V25</th>\n",
              "      <th>V26</th>\n",
              "      <th>V27</th>\n",
              "      <th>V28</th>\n",
              "      <th>Amount</th>\n",
              "    </tr>\n",
              "    <tr>\n",
              "      <th>Class</th>\n",
              "      <th></th>\n",
              "      <th></th>\n",
              "      <th></th>\n",
              "      <th></th>\n",
              "      <th></th>\n",
              "      <th></th>\n",
              "      <th></th>\n",
              "      <th></th>\n",
              "      <th></th>\n",
              "      <th></th>\n",
              "      <th></th>\n",
              "      <th></th>\n",
              "      <th></th>\n",
              "      <th></th>\n",
              "      <th></th>\n",
              "      <th></th>\n",
              "      <th></th>\n",
              "      <th></th>\n",
              "      <th></th>\n",
              "      <th></th>\n",
              "      <th></th>\n",
              "      <th></th>\n",
              "      <th></th>\n",
              "      <th></th>\n",
              "      <th></th>\n",
              "      <th></th>\n",
              "      <th></th>\n",
              "      <th></th>\n",
              "      <th></th>\n",
              "      <th></th>\n",
              "    </tr>\n",
              "  </thead>\n",
              "  <tbody>\n",
              "    <tr>\n",
              "      <th>0.0</th>\n",
              "      <td>16921.635784</td>\n",
              "      <td>-0.207314</td>\n",
              "      <td>0.197332</td>\n",
              "      <td>0.790004</td>\n",
              "      <td>0.238315</td>\n",
              "      <td>-0.151797</td>\n",
              "      <td>0.097843</td>\n",
              "      <td>-0.108104</td>\n",
              "      <td>0.001899</td>\n",
              "      <td>0.576158</td>\n",
              "      <td>-0.164042</td>\n",
              "      <td>0.612300</td>\n",
              "      <td>-0.946225</td>\n",
              "      <td>0.601176</td>\n",
              "      <td>0.53536</td>\n",
              "      <td>-0.009980</td>\n",
              "      <td>0.015885</td>\n",
              "      <td>0.300819</td>\n",
              "      <td>-0.042356</td>\n",
              "      <td>-0.062586</td>\n",
              "      <td>0.036816</td>\n",
              "      <td>-0.045327</td>\n",
              "      <td>-0.139182</td>\n",
              "      <td>-0.036479</td>\n",
              "      <td>0.011794</td>\n",
              "      <td>0.124801</td>\n",
              "      <td>0.028720</td>\n",
              "      <td>0.008603</td>\n",
              "      <td>0.005937</td>\n",
              "      <td>71.634916</td>\n",
              "    </tr>\n",
              "    <tr>\n",
              "      <th>1.0</th>\n",
              "      <td>17592.162791</td>\n",
              "      <td>-8.792044</td>\n",
              "      <td>6.504115</td>\n",
              "      <td>-12.461366</td>\n",
              "      <td>6.302522</td>\n",
              "      <td>-6.112129</td>\n",
              "      <td>-2.534417</td>\n",
              "      <td>-8.479521</td>\n",
              "      <td>4.438385</td>\n",
              "      <td>-3.005413</td>\n",
              "      <td>-7.161801</td>\n",
              "      <td>5.989772</td>\n",
              "      <td>-8.972771</td>\n",
              "      <td>0.410614</td>\n",
              "      <td>-8.72272</td>\n",
              "      <td>-0.150567</td>\n",
              "      <td>-4.994930</td>\n",
              "      <td>-7.930996</td>\n",
              "      <td>-2.798884</td>\n",
              "      <td>0.320664</td>\n",
              "      <td>0.704824</td>\n",
              "      <td>0.536947</td>\n",
              "      <td>-0.386820</td>\n",
              "      <td>-0.379114</td>\n",
              "      <td>-0.264854</td>\n",
              "      <td>0.349233</td>\n",
              "      <td>0.177437</td>\n",
              "      <td>0.867258</td>\n",
              "      <td>0.096510</td>\n",
              "      <td>93.996860</td>\n",
              "    </tr>\n",
              "  </tbody>\n",
              "</table>\n",
              "</div>"
            ],
            "text/plain": [
              "               Time        V1        V2  ...       V27       V28     Amount\n",
              "Class                                    ...                               \n",
              "0.0    16921.635784 -0.207314  0.197332  ...  0.008603  0.005937  71.634916\n",
              "1.0    17592.162791 -8.792044  6.504115  ...  0.867258  0.096510  93.996860\n",
              "\n",
              "[2 rows x 30 columns]"
            ]
          },
          "metadata": {
            "tags": []
          },
          "execution_count": 42
        }
      ]
    },
    {
      "cell_type": "code",
      "metadata": {
        "id": "wjP69wsN4YPp"
      },
      "source": [
        "#Since dimensions are unequal, we take a random sample of legitimate transactions for comparison\n",
        "legit_sample = legit.sample(n=86)"
      ],
      "execution_count": 43,
      "outputs": []
    },
    {
      "cell_type": "code",
      "metadata": {
        "id": "9HIrSjyz4qfD"
      },
      "source": [
        "new = pd.concat([legit_sample, fraud], axis=0)"
      ],
      "execution_count": 44,
      "outputs": []
    },
    {
      "cell_type": "code",
      "metadata": {
        "colab": {
          "base_uri": "https://localhost:8080/",
          "height": 216
        },
        "id": "F8VAjJuK41U_",
        "outputId": "984e3567-637d-4f1a-dd9e-b5c9a9992c5a"
      },
      "source": [
        "new.head()"
      ],
      "execution_count": 45,
      "outputs": [
        {
          "output_type": "execute_result",
          "data": {
            "text/html": [
              "<div>\n",
              "<style scoped>\n",
              "    .dataframe tbody tr th:only-of-type {\n",
              "        vertical-align: middle;\n",
              "    }\n",
              "\n",
              "    .dataframe tbody tr th {\n",
              "        vertical-align: top;\n",
              "    }\n",
              "\n",
              "    .dataframe thead th {\n",
              "        text-align: right;\n",
              "    }\n",
              "</style>\n",
              "<table border=\"1\" class=\"dataframe\">\n",
              "  <thead>\n",
              "    <tr style=\"text-align: right;\">\n",
              "      <th></th>\n",
              "      <th>Time</th>\n",
              "      <th>V1</th>\n",
              "      <th>V2</th>\n",
              "      <th>V3</th>\n",
              "      <th>V4</th>\n",
              "      <th>V5</th>\n",
              "      <th>V6</th>\n",
              "      <th>V7</th>\n",
              "      <th>V8</th>\n",
              "      <th>V9</th>\n",
              "      <th>V10</th>\n",
              "      <th>V11</th>\n",
              "      <th>V12</th>\n",
              "      <th>V13</th>\n",
              "      <th>V14</th>\n",
              "      <th>V15</th>\n",
              "      <th>V16</th>\n",
              "      <th>V17</th>\n",
              "      <th>V18</th>\n",
              "      <th>V19</th>\n",
              "      <th>V20</th>\n",
              "      <th>V21</th>\n",
              "      <th>V22</th>\n",
              "      <th>V23</th>\n",
              "      <th>V24</th>\n",
              "      <th>V25</th>\n",
              "      <th>V26</th>\n",
              "      <th>V27</th>\n",
              "      <th>V28</th>\n",
              "      <th>Amount</th>\n",
              "      <th>Class</th>\n",
              "    </tr>\n",
              "  </thead>\n",
              "  <tbody>\n",
              "    <tr>\n",
              "      <th>17592</th>\n",
              "      <td>28818</td>\n",
              "      <td>-2.181281</td>\n",
              "      <td>3.422398</td>\n",
              "      <td>-6.628457</td>\n",
              "      <td>4.096195</td>\n",
              "      <td>-2.558534</td>\n",
              "      <td>-2.902141</td>\n",
              "      <td>-4.627348</td>\n",
              "      <td>1.783160</td>\n",
              "      <td>-2.689058</td>\n",
              "      <td>-6.959551</td>\n",
              "      <td>4.146474</td>\n",
              "      <td>-8.203205</td>\n",
              "      <td>-1.415738</td>\n",
              "      <td>-10.006650</td>\n",
              "      <td>1.065094</td>\n",
              "      <td>-5.502404</td>\n",
              "      <td>-8.902106</td>\n",
              "      <td>-2.752053</td>\n",
              "      <td>1.024737</td>\n",
              "      <td>0.792160</td>\n",
              "      <td>0.890441</td>\n",
              "      <td>-0.286284</td>\n",
              "      <td>0.049511</td>\n",
              "      <td>-0.063265</td>\n",
              "      <td>-0.158701</td>\n",
              "      <td>-0.297131</td>\n",
              "      <td>1.348460</td>\n",
              "      <td>0.330177</td>\n",
              "      <td>89.99</td>\n",
              "      <td>0.0</td>\n",
              "    </tr>\n",
              "    <tr>\n",
              "      <th>5967</th>\n",
              "      <td>6627</td>\n",
              "      <td>-1.825028</td>\n",
              "      <td>0.020712</td>\n",
              "      <td>0.836860</td>\n",
              "      <td>1.557495</td>\n",
              "      <td>0.591494</td>\n",
              "      <td>-1.094729</td>\n",
              "      <td>-0.319146</td>\n",
              "      <td>0.296075</td>\n",
              "      <td>0.769193</td>\n",
              "      <td>-0.460861</td>\n",
              "      <td>0.884008</td>\n",
              "      <td>-2.098300</td>\n",
              "      <td>1.839482</td>\n",
              "      <td>2.076256</td>\n",
              "      <td>0.612937</td>\n",
              "      <td>-0.537066</td>\n",
              "      <td>1.105538</td>\n",
              "      <td>-0.200786</td>\n",
              "      <td>-0.311896</td>\n",
              "      <td>-0.110640</td>\n",
              "      <td>0.007546</td>\n",
              "      <td>0.217449</td>\n",
              "      <td>-0.492399</td>\n",
              "      <td>0.409816</td>\n",
              "      <td>-0.165269</td>\n",
              "      <td>-0.326029</td>\n",
              "      <td>0.313806</td>\n",
              "      <td>-0.329492</td>\n",
              "      <td>39.52</td>\n",
              "      <td>0.0</td>\n",
              "    </tr>\n",
              "    <tr>\n",
              "      <th>15375</th>\n",
              "      <td>26759</td>\n",
              "      <td>-0.517229</td>\n",
              "      <td>0.925272</td>\n",
              "      <td>1.638532</td>\n",
              "      <td>-0.145135</td>\n",
              "      <td>0.054758</td>\n",
              "      <td>-0.233745</td>\n",
              "      <td>0.498883</td>\n",
              "      <td>0.225197</td>\n",
              "      <td>-0.623564</td>\n",
              "      <td>-0.176666</td>\n",
              "      <td>1.648582</td>\n",
              "      <td>0.622825</td>\n",
              "      <td>-0.427617</td>\n",
              "      <td>0.442953</td>\n",
              "      <td>0.419749</td>\n",
              "      <td>0.057481</td>\n",
              "      <td>-0.272992</td>\n",
              "      <td>-0.333564</td>\n",
              "      <td>-0.129424</td>\n",
              "      <td>0.049110</td>\n",
              "      <td>-0.138855</td>\n",
              "      <td>-0.356734</td>\n",
              "      <td>0.023350</td>\n",
              "      <td>0.196272</td>\n",
              "      <td>-0.335059</td>\n",
              "      <td>0.071925</td>\n",
              "      <td>0.276214</td>\n",
              "      <td>0.108870</td>\n",
              "      <td>1.88</td>\n",
              "      <td>0.0</td>\n",
              "    </tr>\n",
              "    <tr>\n",
              "      <th>338</th>\n",
              "      <td>248</td>\n",
              "      <td>-0.216867</td>\n",
              "      <td>0.900896</td>\n",
              "      <td>1.502850</td>\n",
              "      <td>0.812492</td>\n",
              "      <td>0.193952</td>\n",
              "      <td>-0.031488</td>\n",
              "      <td>0.490795</td>\n",
              "      <td>0.120991</td>\n",
              "      <td>-0.907336</td>\n",
              "      <td>-0.106269</td>\n",
              "      <td>1.750772</td>\n",
              "      <td>1.119544</td>\n",
              "      <td>0.592076</td>\n",
              "      <td>0.364704</td>\n",
              "      <td>0.611497</td>\n",
              "      <td>-0.349770</td>\n",
              "      <td>-0.174297</td>\n",
              "      <td>-0.026468</td>\n",
              "      <td>0.235718</td>\n",
              "      <td>0.023362</td>\n",
              "      <td>0.147497</td>\n",
              "      <td>0.463470</td>\n",
              "      <td>-0.045124</td>\n",
              "      <td>0.224126</td>\n",
              "      <td>-0.275402</td>\n",
              "      <td>-0.415339</td>\n",
              "      <td>0.108635</td>\n",
              "      <td>0.052981</td>\n",
              "      <td>10.00</td>\n",
              "      <td>0.0</td>\n",
              "    </tr>\n",
              "    <tr>\n",
              "      <th>6079</th>\n",
              "      <td>6915</td>\n",
              "      <td>-0.635633</td>\n",
              "      <td>1.521837</td>\n",
              "      <td>0.656768</td>\n",
              "      <td>0.838245</td>\n",
              "      <td>0.532915</td>\n",
              "      <td>0.157448</td>\n",
              "      <td>0.292106</td>\n",
              "      <td>0.380324</td>\n",
              "      <td>0.532503</td>\n",
              "      <td>-0.674872</td>\n",
              "      <td>-0.129866</td>\n",
              "      <td>-2.306654</td>\n",
              "      <td>2.506756</td>\n",
              "      <td>1.908375</td>\n",
              "      <td>0.483216</td>\n",
              "      <td>-0.320939</td>\n",
              "      <td>0.646802</td>\n",
              "      <td>0.157184</td>\n",
              "      <td>0.144974</td>\n",
              "      <td>0.019180</td>\n",
              "      <td>-0.019119</td>\n",
              "      <td>0.305075</td>\n",
              "      <td>-0.183507</td>\n",
              "      <td>-0.795949</td>\n",
              "      <td>-0.133169</td>\n",
              "      <td>-0.274159</td>\n",
              "      <td>0.286487</td>\n",
              "      <td>0.142654</td>\n",
              "      <td>5.00</td>\n",
              "      <td>0.0</td>\n",
              "    </tr>\n",
              "  </tbody>\n",
              "</table>\n",
              "</div>"
            ],
            "text/plain": [
              "        Time        V1        V2        V3  ...       V27       V28  Amount  Class\n",
              "17592  28818 -2.181281  3.422398 -6.628457  ...  1.348460  0.330177   89.99    0.0\n",
              "5967    6627 -1.825028  0.020712  0.836860  ...  0.313806 -0.329492   39.52    0.0\n",
              "15375  26759 -0.517229  0.925272  1.638532  ...  0.276214  0.108870    1.88    0.0\n",
              "338      248 -0.216867  0.900896  1.502850  ...  0.108635  0.052981   10.00    0.0\n",
              "6079    6915 -0.635633  1.521837  0.656768  ...  0.286487  0.142654    5.00    0.0\n",
              "\n",
              "[5 rows x 31 columns]"
            ]
          },
          "metadata": {
            "tags": []
          },
          "execution_count": 45
        }
      ]
    },
    {
      "cell_type": "code",
      "metadata": {
        "colab": {
          "base_uri": "https://localhost:8080/"
        },
        "id": "1scfnbiq44bH",
        "outputId": "cc8897bd-bb4d-41eb-c521-0e1efbeca37d"
      },
      "source": [
        "new['Class'].value_counts()"
      ],
      "execution_count": 46,
      "outputs": [
        {
          "output_type": "execute_result",
          "data": {
            "text/plain": [
              "1.0    86\n",
              "0.0    86\n",
              "Name: Class, dtype: int64"
            ]
          },
          "metadata": {
            "tags": []
          },
          "execution_count": 46
        }
      ]
    },
    {
      "cell_type": "code",
      "metadata": {
        "colab": {
          "base_uri": "https://localhost:8080/",
          "height": 157
        },
        "id": "Kgy0NK225G5I",
        "outputId": "56b23b3c-e98e-4665-8f05-a367463331c2"
      },
      "source": [
        "new.groupby('Class').mean()"
      ],
      "execution_count": 47,
      "outputs": [
        {
          "output_type": "execute_result",
          "data": {
            "text/html": [
              "<div>\n",
              "<style scoped>\n",
              "    .dataframe tbody tr th:only-of-type {\n",
              "        vertical-align: middle;\n",
              "    }\n",
              "\n",
              "    .dataframe tbody tr th {\n",
              "        vertical-align: top;\n",
              "    }\n",
              "\n",
              "    .dataframe thead th {\n",
              "        text-align: right;\n",
              "    }\n",
              "</style>\n",
              "<table border=\"1\" class=\"dataframe\">\n",
              "  <thead>\n",
              "    <tr style=\"text-align: right;\">\n",
              "      <th></th>\n",
              "      <th>Time</th>\n",
              "      <th>V1</th>\n",
              "      <th>V2</th>\n",
              "      <th>V3</th>\n",
              "      <th>V4</th>\n",
              "      <th>V5</th>\n",
              "      <th>V6</th>\n",
              "      <th>V7</th>\n",
              "      <th>V8</th>\n",
              "      <th>V9</th>\n",
              "      <th>V10</th>\n",
              "      <th>V11</th>\n",
              "      <th>V12</th>\n",
              "      <th>V13</th>\n",
              "      <th>V14</th>\n",
              "      <th>V15</th>\n",
              "      <th>V16</th>\n",
              "      <th>V17</th>\n",
              "      <th>V18</th>\n",
              "      <th>V19</th>\n",
              "      <th>V20</th>\n",
              "      <th>V21</th>\n",
              "      <th>V22</th>\n",
              "      <th>V23</th>\n",
              "      <th>V24</th>\n",
              "      <th>V25</th>\n",
              "      <th>V26</th>\n",
              "      <th>V27</th>\n",
              "      <th>V28</th>\n",
              "      <th>Amount</th>\n",
              "    </tr>\n",
              "    <tr>\n",
              "      <th>Class</th>\n",
              "      <th></th>\n",
              "      <th></th>\n",
              "      <th></th>\n",
              "      <th></th>\n",
              "      <th></th>\n",
              "      <th></th>\n",
              "      <th></th>\n",
              "      <th></th>\n",
              "      <th></th>\n",
              "      <th></th>\n",
              "      <th></th>\n",
              "      <th></th>\n",
              "      <th></th>\n",
              "      <th></th>\n",
              "      <th></th>\n",
              "      <th></th>\n",
              "      <th></th>\n",
              "      <th></th>\n",
              "      <th></th>\n",
              "      <th></th>\n",
              "      <th></th>\n",
              "      <th></th>\n",
              "      <th></th>\n",
              "      <th></th>\n",
              "      <th></th>\n",
              "      <th></th>\n",
              "      <th></th>\n",
              "      <th></th>\n",
              "      <th></th>\n",
              "      <th></th>\n",
              "    </tr>\n",
              "  </thead>\n",
              "  <tbody>\n",
              "    <tr>\n",
              "      <th>0.0</th>\n",
              "      <td>16130.639535</td>\n",
              "      <td>-0.366637</td>\n",
              "      <td>0.318302</td>\n",
              "      <td>0.758363</td>\n",
              "      <td>0.443379</td>\n",
              "      <td>-0.209581</td>\n",
              "      <td>-0.133028</td>\n",
              "      <td>-0.151263</td>\n",
              "      <td>0.185581</td>\n",
              "      <td>0.621023</td>\n",
              "      <td>0.026563</td>\n",
              "      <td>0.555392</td>\n",
              "      <td>-0.912097</td>\n",
              "      <td>0.519322</td>\n",
              "      <td>0.31814</td>\n",
              "      <td>0.083995</td>\n",
              "      <td>-0.116141</td>\n",
              "      <td>0.164717</td>\n",
              "      <td>0.027523</td>\n",
              "      <td>-0.117865</td>\n",
              "      <td>0.209296</td>\n",
              "      <td>-0.104867</td>\n",
              "      <td>-0.119311</td>\n",
              "      <td>-0.007251</td>\n",
              "      <td>0.001607</td>\n",
              "      <td>0.097395</td>\n",
              "      <td>0.060926</td>\n",
              "      <td>0.080232</td>\n",
              "      <td>0.012136</td>\n",
              "      <td>67.016977</td>\n",
              "    </tr>\n",
              "    <tr>\n",
              "      <th>1.0</th>\n",
              "      <td>17592.162791</td>\n",
              "      <td>-8.792044</td>\n",
              "      <td>6.504115</td>\n",
              "      <td>-12.461366</td>\n",
              "      <td>6.302522</td>\n",
              "      <td>-6.112129</td>\n",
              "      <td>-2.534417</td>\n",
              "      <td>-8.479521</td>\n",
              "      <td>4.438385</td>\n",
              "      <td>-3.005413</td>\n",
              "      <td>-7.161801</td>\n",
              "      <td>5.989772</td>\n",
              "      <td>-8.972771</td>\n",
              "      <td>0.410614</td>\n",
              "      <td>-8.72272</td>\n",
              "      <td>-0.150567</td>\n",
              "      <td>-4.994930</td>\n",
              "      <td>-7.930996</td>\n",
              "      <td>-2.798884</td>\n",
              "      <td>0.320664</td>\n",
              "      <td>0.704824</td>\n",
              "      <td>0.536947</td>\n",
              "      <td>-0.386820</td>\n",
              "      <td>-0.379114</td>\n",
              "      <td>-0.264854</td>\n",
              "      <td>0.349233</td>\n",
              "      <td>0.177437</td>\n",
              "      <td>0.867258</td>\n",
              "      <td>0.096510</td>\n",
              "      <td>93.996860</td>\n",
              "    </tr>\n",
              "  </tbody>\n",
              "</table>\n",
              "</div>"
            ],
            "text/plain": [
              "               Time        V1        V2  ...       V27       V28     Amount\n",
              "Class                                    ...                               \n",
              "0.0    16130.639535 -0.366637  0.318302  ...  0.080232  0.012136  67.016977\n",
              "1.0    17592.162791 -8.792044  6.504115  ...  0.867258  0.096510  93.996860\n",
              "\n",
              "[2 rows x 30 columns]"
            ]
          },
          "metadata": {
            "tags": []
          },
          "execution_count": 47
        }
      ]
    },
    {
      "cell_type": "code",
      "metadata": {
        "id": "4UxPCGuC5MTJ"
      },
      "source": [
        "#Splitting the data into features and targets\n",
        "X = new.drop(columns='Class', axis=1)\n",
        "Y = new['Class']"
      ],
      "execution_count": 48,
      "outputs": []
    },
    {
      "cell_type": "code",
      "metadata": {
        "colab": {
          "base_uri": "https://localhost:8080/"
        },
        "id": "wSeCqI0s5gyN",
        "outputId": "f0f00567-83cc-48d8-9497-7d135564e697"
      },
      "source": [
        "print(X)"
      ],
      "execution_count": 49,
      "outputs": [
        {
          "output_type": "stream",
          "text": [
            "        Time        V1        V2  ...       V27       V28  Amount\n",
            "17592  28818 -2.181281  3.422398  ...  1.348460  0.330177   89.99\n",
            "5967    6627 -1.825028  0.020712  ...  0.313806 -0.329492   39.52\n",
            "15375  26759 -0.517229  0.925272  ...  0.276214  0.108870    1.88\n",
            "338      248 -0.216867  0.900896  ...  0.108635  0.052981   10.00\n",
            "6079    6915 -0.635633  1.521837  ...  0.286487  0.142654    5.00\n",
            "...      ...       ...       ...  ...       ...       ...     ...\n",
            "18466  29526  1.102804  2.829168  ...  0.009146  0.153318    0.68\n",
            "18472  29531 -1.060676  2.608579  ... -0.130918  0.192177    0.68\n",
            "18773  29753  0.269614  3.549755  ...  0.553255  0.402400    0.68\n",
            "18809  29785  0.923764  0.344048  ...  0.489035 -0.049729   30.30\n",
            "20198  30852 -2.830984  0.885657  ... -2.532445  0.311177  104.81\n",
            "\n",
            "[172 rows x 30 columns]\n"
          ],
          "name": "stdout"
        }
      ]
    },
    {
      "cell_type": "code",
      "metadata": {
        "colab": {
          "base_uri": "https://localhost:8080/"
        },
        "id": "JIhuZaxY5iT0",
        "outputId": "37eec9c7-d5d2-467a-bdab-105fe8d8fbd5"
      },
      "source": [
        "print(Y)"
      ],
      "execution_count": 50,
      "outputs": [
        {
          "output_type": "stream",
          "text": [
            "17592    0.0\n",
            "5967     0.0\n",
            "15375    0.0\n",
            "338      0.0\n",
            "6079     0.0\n",
            "        ... \n",
            "18466    1.0\n",
            "18472    1.0\n",
            "18773    1.0\n",
            "18809    1.0\n",
            "20198    1.0\n",
            "Name: Class, Length: 172, dtype: float64\n"
          ],
          "name": "stdout"
        }
      ]
    },
    {
      "cell_type": "code",
      "metadata": {
        "id": "PIqrSIcC5kWq"
      },
      "source": [
        "X_train, X_test, Y_train, Y_test = train_test_split(X, Y, test_size=0.2, stratify=Y, random_state=2)"
      ],
      "execution_count": 51,
      "outputs": []
    },
    {
      "cell_type": "code",
      "metadata": {
        "colab": {
          "base_uri": "https://localhost:8080/"
        },
        "id": "HGdcXpPA5_ue",
        "outputId": "8fe09afe-b3bf-48be-ca9b-6e37a6b1fa18"
      },
      "source": [
        "print(X.shape, X_train.shape, X_test.shape)"
      ],
      "execution_count": 52,
      "outputs": [
        {
          "output_type": "stream",
          "text": [
            "(172, 30) (137, 30) (35, 30)\n"
          ],
          "name": "stdout"
        }
      ]
    },
    {
      "cell_type": "markdown",
      "metadata": {
        "id": "PT-bElyf6P19"
      },
      "source": [
        "**Applying Logistic Regression** "
      ]
    },
    {
      "cell_type": "code",
      "metadata": {
        "id": "45hjO4Zl6J0U"
      },
      "source": [
        "model = LogisticRegression()"
      ],
      "execution_count": 53,
      "outputs": []
    },
    {
      "cell_type": "code",
      "metadata": {
        "colab": {
          "base_uri": "https://localhost:8080/"
        },
        "id": "lG2kU23i6ZHQ",
        "outputId": "4047cf9d-c29d-4a1d-8cc6-409c16400b0d"
      },
      "source": [
        "model.fit(X_train, Y_train)"
      ],
      "execution_count": 54,
      "outputs": [
        {
          "output_type": "stream",
          "text": [
            "/usr/local/lib/python3.7/dist-packages/sklearn/linear_model/_logistic.py:940: ConvergenceWarning: lbfgs failed to converge (status=1):\n",
            "STOP: TOTAL NO. of ITERATIONS REACHED LIMIT.\n",
            "\n",
            "Increase the number of iterations (max_iter) or scale the data as shown in:\n",
            "    https://scikit-learn.org/stable/modules/preprocessing.html\n",
            "Please also refer to the documentation for alternative solver options:\n",
            "    https://scikit-learn.org/stable/modules/linear_model.html#logistic-regression\n",
            "  extra_warning_msg=_LOGISTIC_SOLVER_CONVERGENCE_MSG)\n"
          ],
          "name": "stderr"
        },
        {
          "output_type": "execute_result",
          "data": {
            "text/plain": [
              "LogisticRegression(C=1.0, class_weight=None, dual=False, fit_intercept=True,\n",
              "                   intercept_scaling=1, l1_ratio=None, max_iter=100,\n",
              "                   multi_class='auto', n_jobs=None, penalty='l2',\n",
              "                   random_state=None, solver='lbfgs', tol=0.0001, verbose=0,\n",
              "                   warm_start=False)"
            ]
          },
          "metadata": {
            "tags": []
          },
          "execution_count": 54
        }
      ]
    },
    {
      "cell_type": "code",
      "metadata": {
        "id": "tOW677YL6lJJ"
      },
      "source": [
        "X_train_prediction = model.predict(X_train)\n",
        "training_data_accuracy = accuracy_score(X_train_prediction, Y_train)"
      ],
      "execution_count": 55,
      "outputs": []
    },
    {
      "cell_type": "code",
      "metadata": {
        "colab": {
          "base_uri": "https://localhost:8080/"
        },
        "id": "a9cqktOz62k_",
        "outputId": "c800166e-6eae-4b28-8484-006e2013de91"
      },
      "source": [
        "print('The Accuracy of the Training Data is:', training_data_accuracy)"
      ],
      "execution_count": 56,
      "outputs": [
        {
          "output_type": "stream",
          "text": [
            "The Accuracy of the Training Data is: 0.9635036496350365\n"
          ],
          "name": "stdout"
        }
      ]
    },
    {
      "cell_type": "code",
      "metadata": {
        "id": "df42zGKH7EKg"
      },
      "source": [
        "X_test_prediction = model.predict(X_test)\n",
        "test_data_accuracy = accuracy_score(X_test_prediction, Y_test)"
      ],
      "execution_count": 57,
      "outputs": []
    },
    {
      "cell_type": "code",
      "metadata": {
        "colab": {
          "base_uri": "https://localhost:8080/"
        },
        "id": "ov64bqzF7Rbo",
        "outputId": "29f7aa0c-dced-4e4b-ad96-31010bf10165"
      },
      "source": [
        "print('The Accuracy of the Test Data is:', test_data_accuracy)"
      ],
      "execution_count": 58,
      "outputs": [
        {
          "output_type": "stream",
          "text": [
            "The Accuracy of the Test Data is: 0.9428571428571428\n"
          ],
          "name": "stdout"
        }
      ]
    }
  ]
}